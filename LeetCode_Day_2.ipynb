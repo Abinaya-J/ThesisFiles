{
  "nbformat": 4,
  "nbformat_minor": 0,
  "metadata": {
    "colab": {
      "provenance": []
    },
    "kernelspec": {
      "name": "python3",
      "display_name": "Python 3"
    },
    "language_info": {
      "name": "python"
    }
  },
  "cells": [
    {
      "cell_type": "code",
      "source": [
        "def removeDuplicates(self, nums):\n",
        "  nums[:] = sorted(list(set(nums)))\n",
        "  return len(nums)"
      ],
      "metadata": {
        "id": "TkGHOryt0Qcm"
      },
      "execution_count": null,
      "outputs": []
    },
    {
      "cell_type": "code",
      "source": [
        "class Solution(object):\n",
        "    def maxProfit(self, prices):\n",
        "        profit = 0\n",
        "        for i in range(1, len(prices)):\n",
        "            profit += max(prices[i]-prices[i-1], 0)\n",
        "        return profit\n",
        "\n",
        "def max_profit(prices):\n",
        "    if not prices:\n",
        "        return 0\n",
        "\n",
        "    max_prof = 0\n",
        "    min_price = prices[0]\n",
        "\n",
        "    for i in range(1, len(prices)):\n",
        "        if prices[i] < min_price:\n",
        "            min_price = prices[i]\n",
        "        max_prof = max(max_prof, prices[i] - min_price)\n",
        "    return max_prof"
      ],
      "metadata": {
        "id": "AUeQ6P7XrZs7"
      },
      "execution_count": null,
      "outputs": []
    },
    {
      "cell_type": "code",
      "source": [
        "def rotate(self, nums, k):\n",
        "    if k!= 0:\n",
        "        nums[:] = nums[-k:] + nums[:k+1]\n",
        "    else:\n",
        "        nums = nums"
      ],
      "metadata": {
        "id": "kL6FDexurgeE"
      },
      "execution_count": null,
      "outputs": []
    },
    {
      "cell_type": "code",
      "source": [
        "def containsDuplicate(self, nums):\n",
        "    unique = set(nums)\n",
        "    if len(unique) == len(nums):\n",
        "        return False\n",
        "    return True"
      ],
      "metadata": {
        "id": "_LecNQHb2H7e"
      },
      "execution_count": null,
      "outputs": []
    },
    {
      "cell_type": "code",
      "source": [
        "def singleNumber(self, nums):\n",
        "    for i in range(len(nums)):\n",
        "        if nums.count(nums[i])==1:\n",
        "            return nums[i]"
      ],
      "metadata": {
        "id": "mXFpUava3RLC"
      },
      "execution_count": null,
      "outputs": []
    },
    {
      "cell_type": "code",
      "source": [
        "def reverseString(self, s):\n",
        "    s[:] = s[::-1]"
      ],
      "metadata": {
        "id": "8rVh2hf-xTuv"
      },
      "execution_count": null,
      "outputs": []
    },
    {
      "cell_type": "code",
      "source": [
        "def reverse(self, x):\n",
        "    x_str = str(abs(x))[::-1]\n",
        "    rev_int = int(x_str)\n",
        "    if x<0:\n",
        "        rev_int = -rev_int\n",
        "    if (-2**31) <= rev_int <= (2**31-1):\n",
        "        return rev_int\n",
        "    else:\n",
        "        return 0"
      ],
      "metadata": {
        "id": "8Vp29WiozxMD"
      },
      "execution_count": null,
      "outputs": []
    },
    {
      "cell_type": "code",
      "source": [
        "def firstUniqChar(self, s):\n",
        "    for char in s:\n",
        "        if s.count(char)==1:\n",
        "            return s.index(char)\n",
        "    return -1 "
      ],
      "metadata": {
        "id": "9rClFHM82ESJ"
      },
      "execution_count": null,
      "outputs": []
    }
  ]
}