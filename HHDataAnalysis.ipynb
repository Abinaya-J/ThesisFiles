{
 "cells": [
  {
   "cell_type": "code",
   "execution_count": 7,
   "metadata": {},
   "outputs": [],
   "source": [
    "# Packages/libraries needed\n",
    "\n",
    "import requests\n",
    "import pandas as pd\n",
    "import numpy as np\n",
    "import math\n",
    "from datetime import date, timedelta, datetime\n",
    "import matplotlib.pyplot as plt\n",
    "from statistics import mean\n",
    "import plotly.graph_objects as go \n",
    "import plotly.express as px\n",
    "from statsmodels.tsa.stattools import adfuller\n",
    "from statsmodels.graphics.tsaplots import plot_acf\n",
    "from functools import lru_cache"
   ]
  },
  {
   "cell_type": "markdown",
   "metadata": {},
   "source": [
    "## Weather data"
   ]
  },
  {
   "cell_type": "code",
   "execution_count": 25,
   "metadata": {},
   "outputs": [
    {
     "data": {
      "text/html": [
       "<style type=\"text/css\">\n",
       "#T_83899_row0_col0, #T_83899_row1_col1, #T_83899_row2_col2, #T_83899_row3_col3, #T_83899_row4_col4, #T_83899_row5_col5, #T_83899_row6_col6, #T_83899_row7_col7, #T_83899_row8_col8, #T_83899_row9_col9, #T_83899_row10_col10 {\n",
       "  background-color: #b40426;\n",
       "  color: #f1f1f1;\n",
       "}\n",
       "#T_83899_row0_col1 {\n",
       "  background-color: #779af7;\n",
       "  color: #f1f1f1;\n",
       "}\n",
       "#T_83899_row0_col2, #T_83899_row10_col1 {\n",
       "  background-color: #ead4c8;\n",
       "  color: #000000;\n",
       "}\n",
       "#T_83899_row0_col3 {\n",
       "  background-color: #6485ec;\n",
       "  color: #f1f1f1;\n",
       "}\n",
       "#T_83899_row0_col4, #T_83899_row3_col5, #T_83899_row9_col6 {\n",
       "  background-color: #c0d4f5;\n",
       "  color: #000000;\n",
       "}\n",
       "#T_83899_row0_col5, #T_83899_row1_col9, #T_83899_row2_col1 {\n",
       "  background-color: #bed2f6;\n",
       "  color: #000000;\n",
       "}\n",
       "#T_83899_row0_col6 {\n",
       "  background-color: #cedaeb;\n",
       "  color: #000000;\n",
       "}\n",
       "#T_83899_row0_col7 {\n",
       "  background-color: #f7ad90;\n",
       "  color: #000000;\n",
       "}\n",
       "#T_83899_row0_col8 {\n",
       "  background-color: #88abfd;\n",
       "  color: #000000;\n",
       "}\n",
       "#T_83899_row0_col9, #T_83899_row2_col3 {\n",
       "  background-color: #4055c8;\n",
       "  color: #f1f1f1;\n",
       "}\n",
       "#T_83899_row0_col10 {\n",
       "  background-color: #a3c2fe;\n",
       "  color: #000000;\n",
       "}\n",
       "#T_83899_row1_col0 {\n",
       "  background-color: #6b8df0;\n",
       "  color: #f1f1f1;\n",
       "}\n",
       "#T_83899_row1_col2 {\n",
       "  background-color: #ccd9ed;\n",
       "  color: #000000;\n",
       "}\n",
       "#T_83899_row1_col3, #T_83899_row4_col10 {\n",
       "  background-color: #7a9df8;\n",
       "  color: #f1f1f1;\n",
       "}\n",
       "#T_83899_row1_col4 {\n",
       "  background-color: #ebd3c6;\n",
       "  color: #000000;\n",
       "}\n",
       "#T_83899_row1_col5 {\n",
       "  background-color: #89acfd;\n",
       "  color: #000000;\n",
       "}\n",
       "#T_83899_row1_col6 {\n",
       "  background-color: #86a9fc;\n",
       "  color: #f1f1f1;\n",
       "}\n",
       "#T_83899_row1_col7, #T_83899_row7_col1 {\n",
       "  background-color: #f7b79b;\n",
       "  color: #000000;\n",
       "}\n",
       "#T_83899_row1_col8 {\n",
       "  background-color: #bad0f8;\n",
       "  color: #000000;\n",
       "}\n",
       "#T_83899_row1_col10 {\n",
       "  background-color: #f2cbb7;\n",
       "  color: #000000;\n",
       "}\n",
       "#T_83899_row2_col0 {\n",
       "  background-color: #dddcdc;\n",
       "  color: #000000;\n",
       "}\n",
       "#T_83899_row2_col4, #T_83899_row9_col4 {\n",
       "  background-color: #d1dae9;\n",
       "  color: #000000;\n",
       "}\n",
       "#T_83899_row2_col5 {\n",
       "  background-color: #a2c1ff;\n",
       "  color: #000000;\n",
       "}\n",
       "#T_83899_row2_col6, #T_83899_row8_col6 {\n",
       "  background-color: #b2ccfb;\n",
       "  color: #000000;\n",
       "}\n",
       "#T_83899_row2_col7 {\n",
       "  background-color: #f5c1a9;\n",
       "  color: #000000;\n",
       "}\n",
       "#T_83899_row2_col8, #T_83899_row9_col10 {\n",
       "  background-color: #c5d6f2;\n",
       "  color: #000000;\n",
       "}\n",
       "#T_83899_row2_col9 {\n",
       "  background-color: #516ddb;\n",
       "  color: #f1f1f1;\n",
       "}\n",
       "#T_83899_row2_col10 {\n",
       "  background-color: #d3dbe7;\n",
       "  color: #000000;\n",
       "}\n",
       "#T_83899_row3_col0, #T_83899_row3_col2, #T_83899_row3_col7, #T_83899_row3_col8, #T_83899_row3_col9, #T_83899_row3_col10, #T_83899_row4_col5, #T_83899_row4_col6, #T_83899_row5_col1, #T_83899_row5_col4, #T_83899_row10_col3 {\n",
       "  background-color: #3b4cc0;\n",
       "  color: #f1f1f1;\n",
       "}\n",
       "#T_83899_row3_col1, #T_83899_row6_col9 {\n",
       "  background-color: #5b7ae5;\n",
       "  color: #f1f1f1;\n",
       "}\n",
       "#T_83899_row3_col4, #T_83899_row8_col10 {\n",
       "  background-color: #d8dce2;\n",
       "  color: #000000;\n",
       "}\n",
       "#T_83899_row3_col6 {\n",
       "  background-color: #81a4fb;\n",
       "  color: #f1f1f1;\n",
       "}\n",
       "#T_83899_row4_col0 {\n",
       "  background-color: #7597f6;\n",
       "  color: #f1f1f1;\n",
       "}\n",
       "#T_83899_row4_col1 {\n",
       "  background-color: #c7d7f0;\n",
       "  color: #000000;\n",
       "}\n",
       "#T_83899_row4_col2 {\n",
       "  background-color: #abc8fd;\n",
       "  color: #000000;\n",
       "}\n",
       "#T_83899_row4_col3 {\n",
       "  background-color: #bbd1f8;\n",
       "  color: #000000;\n",
       "}\n",
       "#T_83899_row4_col7 {\n",
       "  background-color: #b1cbfc;\n",
       "  color: #000000;\n",
       "}\n",
       "#T_83899_row4_col8 {\n",
       "  background-color: #9dbdff;\n",
       "  color: #000000;\n",
       "}\n",
       "#T_83899_row4_col9 {\n",
       "  background-color: #6a8bef;\n",
       "  color: #f1f1f1;\n",
       "}\n",
       "#T_83899_row5_col0, #T_83899_row5_col2, #T_83899_row8_col9 {\n",
       "  background-color: #6f92f3;\n",
       "  color: #f1f1f1;\n",
       "}\n",
       "#T_83899_row5_col3 {\n",
       "  background-color: #9bbcff;\n",
       "  color: #000000;\n",
       "}\n",
       "#T_83899_row5_col6 {\n",
       "  background-color: #f6a586;\n",
       "  color: #000000;\n",
       "}\n",
       "#T_83899_row5_col7, #T_83899_row5_col9 {\n",
       "  background-color: #4b64d5;\n",
       "  color: #f1f1f1;\n",
       "}\n",
       "#T_83899_row5_col8, #T_83899_row9_col0 {\n",
       "  background-color: #6788ee;\n",
       "  color: #f1f1f1;\n",
       "}\n",
       "#T_83899_row5_col10 {\n",
       "  background-color: #9ebeff;\n",
       "  color: #000000;\n",
       "}\n",
       "#T_83899_row6_col0 {\n",
       "  background-color: #96b7ff;\n",
       "  color: #000000;\n",
       "}\n",
       "#T_83899_row6_col1 {\n",
       "  background-color: #455cce;\n",
       "  color: #f1f1f1;\n",
       "}\n",
       "#T_83899_row6_col2 {\n",
       "  background-color: #8fb1fe;\n",
       "  color: #000000;\n",
       "}\n",
       "#T_83899_row6_col3 {\n",
       "  background-color: #5d7ce6;\n",
       "  color: #f1f1f1;\n",
       "}\n",
       "#T_83899_row6_col4 {\n",
       "  background-color: #485fd1;\n",
       "  color: #f1f1f1;\n",
       "}\n",
       "#T_83899_row6_col5 {\n",
       "  background-color: #f5a081;\n",
       "  color: #000000;\n",
       "}\n",
       "#T_83899_row6_col7 {\n",
       "  background-color: #7093f3;\n",
       "  color: #f1f1f1;\n",
       "}\n",
       "#T_83899_row6_col8 {\n",
       "  background-color: #7396f5;\n",
       "  color: #f1f1f1;\n",
       "}\n",
       "#T_83899_row6_col10 {\n",
       "  background-color: #80a3fa;\n",
       "  color: #f1f1f1;\n",
       "}\n",
       "#T_83899_row7_col0 {\n",
       "  background-color: #f7b194;\n",
       "  color: #000000;\n",
       "}\n",
       "#T_83899_row7_col2 {\n",
       "  background-color: #f7b99e;\n",
       "  color: #000000;\n",
       "}\n",
       "#T_83899_row7_col3 {\n",
       "  background-color: #5977e3;\n",
       "  color: #f1f1f1;\n",
       "}\n",
       "#T_83899_row7_col4 {\n",
       "  background-color: #dfdbd9;\n",
       "  color: #000000;\n",
       "}\n",
       "#T_83899_row7_col5, #T_83899_row9_col8 {\n",
       "  background-color: #98b9ff;\n",
       "  color: #000000;\n",
       "}\n",
       "#T_83899_row7_col6, #T_83899_row8_col7 {\n",
       "  background-color: #adc9fd;\n",
       "  color: #000000;\n",
       "}\n",
       "#T_83899_row7_col8 {\n",
       "  background-color: #a7c5fe;\n",
       "  color: #000000;\n",
       "}\n",
       "#T_83899_row7_col9 {\n",
       "  background-color: #8db0fe;\n",
       "  color: #000000;\n",
       "}\n",
       "#T_83899_row7_col10, #T_83899_row9_col1 {\n",
       "  background-color: #dadce0;\n",
       "  color: #000000;\n",
       "}\n",
       "#T_83899_row8_col0 {\n",
       "  background-color: #82a6fb;\n",
       "  color: #f1f1f1;\n",
       "}\n",
       "#T_83899_row8_col1, #T_83899_row9_col5 {\n",
       "  background-color: #bfd3f6;\n",
       "  color: #000000;\n",
       "}\n",
       "#T_83899_row8_col2, #T_83899_row8_col4 {\n",
       "  background-color: #d6dce4;\n",
       "  color: #000000;\n",
       "}\n",
       "#T_83899_row8_col3 {\n",
       "  background-color: #5f7fe8;\n",
       "  color: #f1f1f1;\n",
       "}\n",
       "#T_83899_row8_col5 {\n",
       "  background-color: #b3cdfb;\n",
       "  color: #000000;\n",
       "}\n",
       "#T_83899_row9_col2 {\n",
       "  background-color: #9abbff;\n",
       "  color: #000000;\n",
       "}\n",
       "#T_83899_row9_col3 {\n",
       "  background-color: #8badfd;\n",
       "  color: #000000;\n",
       "}\n",
       "#T_83899_row9_col7 {\n",
       "  background-color: #b6cefa;\n",
       "  color: #000000;\n",
       "}\n",
       "#T_83899_row10_col0 {\n",
       "  background-color: #7da0f9;\n",
       "  color: #f1f1f1;\n",
       "}\n",
       "#T_83899_row10_col2 {\n",
       "  background-color: #cfdaea;\n",
       "  color: #000000;\n",
       "}\n",
       "#T_83899_row10_col4 {\n",
       "  background-color: #a6c4fe;\n",
       "  color: #000000;\n",
       "}\n",
       "#T_83899_row10_col5 {\n",
       "  background-color: #c3d5f4;\n",
       "  color: #000000;\n",
       "}\n",
       "#T_83899_row10_col6 {\n",
       "  background-color: #9fbfff;\n",
       "  color: #000000;\n",
       "}\n",
       "#T_83899_row10_col7 {\n",
       "  background-color: #cbd8ee;\n",
       "  color: #000000;\n",
       "}\n",
       "#T_83899_row10_col8 {\n",
       "  background-color: #c4d5f3;\n",
       "  color: #000000;\n",
       "}\n",
       "#T_83899_row10_col9 {\n",
       "  background-color: #85a8fc;\n",
       "  color: #f1f1f1;\n",
       "}\n",
       "</style>\n",
       "<table id=\"T_83899_\">\n",
       "  <thead>\n",
       "    <tr>\n",
       "      <th class=\"blank level0\" >&nbsp;</th>\n",
       "      <th class=\"col_heading level0 col0\" >HCC</th>\n",
       "      <th class=\"col_heading level0 col1\" >LCC</th>\n",
       "      <th class=\"col_heading level0 col2\" >MCC</th>\n",
       "      <th class=\"col_heading level0 col3\" >Pressure</th>\n",
       "      <th class=\"col_heading level0 col4\" >RH</th>\n",
       "      <th class=\"col_heading level0 col5\" >SDR</th>\n",
       "      <th class=\"col_heading level0 col6\" >Temp</th>\n",
       "      <th class=\"col_heading level0 col7\" >TCC</th>\n",
       "      <th class=\"col_heading level0 col8\" >TP</th>\n",
       "      <th class=\"col_heading level0 col9\" >WD</th>\n",
       "      <th class=\"col_heading level0 col10\" >WS</th>\n",
       "    </tr>\n",
       "  </thead>\n",
       "  <tbody>\n",
       "    <tr>\n",
       "      <th id=\"T_83899_level0_row0\" class=\"row_heading level0 row0\" >HCC</th>\n",
       "      <td id=\"T_83899_row0_col0\" class=\"data row0 col0\" >1.000000</td>\n",
       "      <td id=\"T_83899_row0_col1\" class=\"data row0 col1\" >-0.034781</td>\n",
       "      <td id=\"T_83899_row0_col2\" class=\"data row0 col2\" >0.388829</td>\n",
       "      <td id=\"T_83899_row0_col3\" class=\"data row0 col3\" >-0.224987</td>\n",
       "      <td id=\"T_83899_row0_col4\" class=\"data row0 col4\" >-0.004295</td>\n",
       "      <td id=\"T_83899_row0_col5\" class=\"data row0 col5\" >-0.019869</td>\n",
       "      <td id=\"T_83899_row0_col6\" class=\"data row0 col6\" >0.113012</td>\n",
       "      <td id=\"T_83899_row0_col7\" class=\"data row0 col7\" >0.615426</td>\n",
       "      <td id=\"T_83899_row0_col8\" class=\"data row0 col8\" >0.045642</td>\n",
       "      <td id=\"T_83899_row0_col9\" class=\"data row0 col9\" >-0.049760</td>\n",
       "      <td id=\"T_83899_row0_col10\" class=\"data row0 col10\" >0.027560</td>\n",
       "    </tr>\n",
       "    <tr>\n",
       "      <th id=\"T_83899_level0_row1\" class=\"row_heading level0 row1\" >LCC</th>\n",
       "      <td id=\"T_83899_row1_col0\" class=\"data row1 col0\" >-0.034781</td>\n",
       "      <td id=\"T_83899_row1_col1\" class=\"data row1 col1\" >1.000000</td>\n",
       "      <td id=\"T_83899_row1_col2\" class=\"data row1 col2\" >0.224107</td>\n",
       "      <td id=\"T_83899_row1_col3\" class=\"data row1 col3\" >-0.138878</td>\n",
       "      <td id=\"T_83899_row1_col4\" class=\"data row1 col4\" >0.264724</td>\n",
       "      <td id=\"T_83899_row1_col5\" class=\"data row1 col5\" >-0.276696</td>\n",
       "      <td id=\"T_83899_row1_col6\" class=\"data row1 col6\" >-0.228661</td>\n",
       "      <td id=\"T_83899_row1_col7\" class=\"data row1 col7\" >0.578489</td>\n",
       "      <td id=\"T_83899_row1_col8\" class=\"data row1 col8\" >0.228837</td>\n",
       "      <td id=\"T_83899_row1_col9\" class=\"data row1 col9\" >0.348916</td>\n",
       "      <td id=\"T_83899_row1_col10\" class=\"data row1 col10\" >0.434019</td>\n",
       "    </tr>\n",
       "    <tr>\n",
       "      <th id=\"T_83899_level0_row2\" class=\"row_heading level0 row2\" >MCC</th>\n",
       "      <td id=\"T_83899_row2_col0\" class=\"data row2 col0\" >0.388829</td>\n",
       "      <td id=\"T_83899_row2_col1\" class=\"data row2 col1\" >0.224107</td>\n",
       "      <td id=\"T_83899_row2_col2\" class=\"data row2 col2\" >1.000000</td>\n",
       "      <td id=\"T_83899_row2_col3\" class=\"data row2 col3\" >-0.384583</td>\n",
       "      <td id=\"T_83899_row2_col4\" class=\"data row2 col4\" >0.085627</td>\n",
       "      <td id=\"T_83899_row2_col5\" class=\"data row2 col5\" >-0.157237</td>\n",
       "      <td id=\"T_83899_row2_col6\" class=\"data row2 col6\" >-0.029288</td>\n",
       "      <td id=\"T_83899_row2_col7\" class=\"data row2 col7\" >0.534268</td>\n",
       "      <td id=\"T_83899_row2_col8\" class=\"data row2 col8\" >0.273644</td>\n",
       "      <td id=\"T_83899_row2_col9\" class=\"data row2 col9\" >0.010638</td>\n",
       "      <td id=\"T_83899_row2_col10\" class=\"data row2 col10\" >0.240130</td>\n",
       "    </tr>\n",
       "    <tr>\n",
       "      <th id=\"T_83899_level0_row3\" class=\"row_heading level0 row3\" >Pressure</th>\n",
       "      <td id=\"T_83899_row3_col0\" class=\"data row3 col0\" >-0.224987</td>\n",
       "      <td id=\"T_83899_row3_col1\" class=\"data row3 col1\" >-0.138878</td>\n",
       "      <td id=\"T_83899_row3_col2\" class=\"data row3 col2\" >-0.384583</td>\n",
       "      <td id=\"T_83899_row3_col3\" class=\"data row3 col3\" >1.000000</td>\n",
       "      <td id=\"T_83899_row3_col4\" class=\"data row3 col4\" >0.130587</td>\n",
       "      <td id=\"T_83899_row3_col5\" class=\"data row3 col5\" >-0.004354</td>\n",
       "      <td id=\"T_83899_row3_col6\" class=\"data row3 col6\" >-0.255955</td>\n",
       "      <td id=\"T_83899_row3_col7\" class=\"data row3 col7\" >-0.272494</td>\n",
       "      <td id=\"T_83899_row3_col8\" class=\"data row3 col8\" >-0.246848</td>\n",
       "      <td id=\"T_83899_row3_col9\" class=\"data row3 col9\" >-0.072072</td>\n",
       "      <td id=\"T_83899_row3_col10\" class=\"data row3 col10\" >-0.415606</td>\n",
       "    </tr>\n",
       "    <tr>\n",
       "      <th id=\"T_83899_level0_row4\" class=\"row_heading level0 row4\" >RH</th>\n",
       "      <td id=\"T_83899_row4_col0\" class=\"data row4 col0\" >-0.004295</td>\n",
       "      <td id=\"T_83899_row4_col1\" class=\"data row4 col1\" >0.264724</td>\n",
       "      <td id=\"T_83899_row4_col2\" class=\"data row4 col2\" >0.085627</td>\n",
       "      <td id=\"T_83899_row4_col3\" class=\"data row4 col3\" >0.130587</td>\n",
       "      <td id=\"T_83899_row4_col4\" class=\"data row4 col4\" >1.000000</td>\n",
       "      <td id=\"T_83899_row4_col5\" class=\"data row4 col5\" >-0.677680</td>\n",
       "      <td id=\"T_83899_row4_col6\" class=\"data row4 col6\" >-0.600573</td>\n",
       "      <td id=\"T_83899_row4_col7\" class=\"data row4 col7\" >0.175174</td>\n",
       "      <td id=\"T_83899_row4_col8\" class=\"data row4 col8\" >0.120159</td>\n",
       "      <td id=\"T_83899_row4_col9\" class=\"data row4 col9\" >0.087387</td>\n",
       "      <td id=\"T_83899_row4_col10\" class=\"data row4 col10\" >-0.137661</td>\n",
       "    </tr>\n",
       "    <tr>\n",
       "      <th id=\"T_83899_level0_row5\" class=\"row_heading level0 row5\" >SDR</th>\n",
       "      <td id=\"T_83899_row5_col0\" class=\"data row5 col0\" >-0.019869</td>\n",
       "      <td id=\"T_83899_row5_col1\" class=\"data row5 col1\" >-0.276696</td>\n",
       "      <td id=\"T_83899_row5_col2\" class=\"data row5 col2\" >-0.157237</td>\n",
       "      <td id=\"T_83899_row5_col3\" class=\"data row5 col3\" >-0.004354</td>\n",
       "      <td id=\"T_83899_row5_col4\" class=\"data row5 col4\" >-0.677680</td>\n",
       "      <td id=\"T_83899_row5_col5\" class=\"data row5 col5\" >1.000000</td>\n",
       "      <td id=\"T_83899_row5_col6\" class=\"data row5 col6\" >0.552253</td>\n",
       "      <td id=\"T_83899_row5_col7\" class=\"data row5 col7\" >-0.199346</td>\n",
       "      <td id=\"T_83899_row5_col8\" class=\"data row5 col8\" >-0.069682</td>\n",
       "      <td id=\"T_83899_row5_col9\" class=\"data row5 col9\" >-0.012288</td>\n",
       "      <td id=\"T_83899_row5_col10\" class=\"data row5 col10\" >0.006659</td>\n",
       "    </tr>\n",
       "    <tr>\n",
       "      <th id=\"T_83899_level0_row6\" class=\"row_heading level0 row6\" >Temp</th>\n",
       "      <td id=\"T_83899_row6_col0\" class=\"data row6 col0\" >0.113012</td>\n",
       "      <td id=\"T_83899_row6_col1\" class=\"data row6 col1\" >-0.228661</td>\n",
       "      <td id=\"T_83899_row6_col2\" class=\"data row6 col2\" >-0.029288</td>\n",
       "      <td id=\"T_83899_row6_col3\" class=\"data row6 col3\" >-0.255955</td>\n",
       "      <td id=\"T_83899_row6_col4\" class=\"data row6 col4\" >-0.600573</td>\n",
       "      <td id=\"T_83899_row6_col5\" class=\"data row6 col5\" >0.552253</td>\n",
       "      <td id=\"T_83899_row6_col6\" class=\"data row6 col6\" >1.000000</td>\n",
       "      <td id=\"T_83899_row6_col7\" class=\"data row6 col7\" >-0.056114</td>\n",
       "      <td id=\"T_83899_row6_col8\" class=\"data row6 col8\" >-0.026458</td>\n",
       "      <td id=\"T_83899_row6_col9\" class=\"data row6 col9\" >0.041588</td>\n",
       "      <td id=\"T_83899_row6_col10\" class=\"data row6 col10\" >-0.116580</td>\n",
       "    </tr>\n",
       "    <tr>\n",
       "      <th id=\"T_83899_level0_row7\" class=\"row_heading level0 row7\" >TCC</th>\n",
       "      <td id=\"T_83899_row7_col0\" class=\"data row7 col0\" >0.615426</td>\n",
       "      <td id=\"T_83899_row7_col1\" class=\"data row7 col1\" >0.578489</td>\n",
       "      <td id=\"T_83899_row7_col2\" class=\"data row7 col2\" >0.534268</td>\n",
       "      <td id=\"T_83899_row7_col3\" class=\"data row7 col3\" >-0.272494</td>\n",
       "      <td id=\"T_83899_row7_col4\" class=\"data row7 col4\" >0.175174</td>\n",
       "      <td id=\"T_83899_row7_col5\" class=\"data row7 col5\" >-0.199346</td>\n",
       "      <td id=\"T_83899_row7_col6\" class=\"data row7 col6\" >-0.056114</td>\n",
       "      <td id=\"T_83899_row7_col7\" class=\"data row7 col7\" >1.000000</td>\n",
       "      <td id=\"T_83899_row7_col8\" class=\"data row7 col8\" >0.162176</td>\n",
       "      <td id=\"T_83899_row7_col9\" class=\"data row7 col9\" >0.198270</td>\n",
       "      <td id=\"T_83899_row7_col10\" class=\"data row7 col10\" >0.280346</td>\n",
       "    </tr>\n",
       "    <tr>\n",
       "      <th id=\"T_83899_level0_row8\" class=\"row_heading level0 row8\" >TP</th>\n",
       "      <td id=\"T_83899_row8_col0\" class=\"data row8 col0\" >0.045642</td>\n",
       "      <td id=\"T_83899_row8_col1\" class=\"data row8 col1\" >0.228837</td>\n",
       "      <td id=\"T_83899_row8_col2\" class=\"data row8 col2\" >0.273644</td>\n",
       "      <td id=\"T_83899_row8_col3\" class=\"data row8 col3\" >-0.246848</td>\n",
       "      <td id=\"T_83899_row8_col4\" class=\"data row8 col4\" >0.120159</td>\n",
       "      <td id=\"T_83899_row8_col5\" class=\"data row8 col5\" >-0.069682</td>\n",
       "      <td id=\"T_83899_row8_col6\" class=\"data row8 col6\" >-0.026458</td>\n",
       "      <td id=\"T_83899_row8_col7\" class=\"data row8 col7\" >0.162176</td>\n",
       "      <td id=\"T_83899_row8_col8\" class=\"data row8 col8\" >1.000000</td>\n",
       "      <td id=\"T_83899_row8_col9\" class=\"data row8 col9\" >0.105325</td>\n",
       "      <td id=\"T_83899_row8_col10\" class=\"data row8 col10\" >0.268885</td>\n",
       "    </tr>\n",
       "    <tr>\n",
       "      <th id=\"T_83899_level0_row9\" class=\"row_heading level0 row9\" >WD</th>\n",
       "      <td id=\"T_83899_row9_col0\" class=\"data row9 col0\" >-0.049760</td>\n",
       "      <td id=\"T_83899_row9_col1\" class=\"data row9 col1\" >0.348916</td>\n",
       "      <td id=\"T_83899_row9_col2\" class=\"data row9 col2\" >0.010638</td>\n",
       "      <td id=\"T_83899_row9_col3\" class=\"data row9 col3\" >-0.072072</td>\n",
       "      <td id=\"T_83899_row9_col4\" class=\"data row9 col4\" >0.087387</td>\n",
       "      <td id=\"T_83899_row9_col5\" class=\"data row9 col5\" >-0.012288</td>\n",
       "      <td id=\"T_83899_row9_col6\" class=\"data row9 col6\" >0.041588</td>\n",
       "      <td id=\"T_83899_row9_col7\" class=\"data row9 col7\" >0.198270</td>\n",
       "      <td id=\"T_83899_row9_col8\" class=\"data row9 col8\" >0.105325</td>\n",
       "      <td id=\"T_83899_row9_col9\" class=\"data row9 col9\" >1.000000</td>\n",
       "      <td id=\"T_83899_row9_col10\" class=\"data row9 col10\" >0.172817</td>\n",
       "    </tr>\n",
       "    <tr>\n",
       "      <th id=\"T_83899_level0_row10\" class=\"row_heading level0 row10\" >WS</th>\n",
       "      <td id=\"T_83899_row10_col0\" class=\"data row10 col0\" >0.027560</td>\n",
       "      <td id=\"T_83899_row10_col1\" class=\"data row10 col1\" >0.434019</td>\n",
       "      <td id=\"T_83899_row10_col2\" class=\"data row10 col2\" >0.240130</td>\n",
       "      <td id=\"T_83899_row10_col3\" class=\"data row10 col3\" >-0.415606</td>\n",
       "      <td id=\"T_83899_row10_col4\" class=\"data row10 col4\" >-0.137661</td>\n",
       "      <td id=\"T_83899_row10_col5\" class=\"data row10 col5\" >0.006659</td>\n",
       "      <td id=\"T_83899_row10_col6\" class=\"data row10 col6\" >-0.116580</td>\n",
       "      <td id=\"T_83899_row10_col7\" class=\"data row10 col7\" >0.280346</td>\n",
       "      <td id=\"T_83899_row10_col8\" class=\"data row10 col8\" >0.268885</td>\n",
       "      <td id=\"T_83899_row10_col9\" class=\"data row10 col9\" >0.172817</td>\n",
       "      <td id=\"T_83899_row10_col10\" class=\"data row10 col10\" >1.000000</td>\n",
       "    </tr>\n",
       "  </tbody>\n",
       "</table>\n"
      ],
      "text/plain": [
       "<pandas.io.formats.style.Styler at 0x7f8b07468e80>"
      ]
     },
     "execution_count": 25,
     "metadata": {},
     "output_type": "execute_result"
    }
   ],
   "source": [
    "#Heatmap to check correlation between weather variables\n",
    "#weather_data denotes the dataframe containing weather data\n",
    "\n",
    "weather_data = pd.read_csv('ThesisData/H1_HIweather.csv')\n",
    "corr = weather_data.corr()\n",
    "corr.style.background_gradient(cmap='coolwarm')"
   ]
  },
  {
   "cell_type": "markdown",
   "metadata": {},
   "source": [
    "## Household PV Data"
   ]
  },
  {
   "cell_type": "code",
   "execution_count": 2,
   "metadata": {},
   "outputs": [],
   "source": [
    "old = pd.read_csv('ThesisData/H1_old.csv')\n",
    "old = old.set_index('to_timestamp', drop=True)\n",
    "old.columns = old.columns.str[-30:]\n",
    "    \n",
    "new = pd.read_csv('ThesisData/H1_new.csv')\n",
    "new = new.set_index('to_timestamp', drop=True)\n",
    "new.index = [str(x)[:-6] for x in new.index]\n",
    "new.index = pd.to_datetime(new.index)\n",
    "    \n",
    "HHData = old.append(new)\n",
    "HHData.index = pd.to_datetime(HHData.index)"
   ]
  },
  {
   "cell_type": "code",
   "execution_count": 3,
   "metadata": {},
   "outputs": [],
   "source": [
    "pv_data = HHData.copy()"
   ]
  },
  {
   "cell_type": "code",
   "execution_count": 5,
   "metadata": {},
   "outputs": [],
   "source": [
    "#pv_data denotes the dataframe containing household pv data\n",
    "\n",
    "#get 6 months of data from January to June 2022\n",
    "pv_data.index = pd.to_datetime(pv_data.index)\n",
    "pv_data = pv_data[pv_data.index <= '2022-07-01 00:00:00']"
   ]
  },
  {
   "cell_type": "code",
   "execution_count": 24,
   "metadata": {},
   "outputs": [
    {
     "name": "stdout",
     "output_type": "stream",
     "text": [
      "[18 19 20 21 22 23  0  1  2  3  4  5 17  6 12 16  7]\n",
      "[ 2  3 20 17 19 23  0  7 21  1  6 22  4  5 16 18  8 15 14]\n"
     ]
    },
    {
     "data": {
      "application/vnd.plotly.v1+json": {
       "config": {
        "plotlyServerURL": "https://plot.ly"
       },
       "data": [
        {
         "alignmentgroup": "True",
         "hovertemplate": "hour=%{x}<br>missing_value_count=%{y}<extra></extra>",
         "legendgroup": "",
         "marker": {
          "color": "#636efa",
          "pattern": {
           "shape": ""
          }
         },
         "name": "",
         "offsetgroup": "",
         "orientation": "v",
         "showlegend": false,
         "textposition": "auto",
         "type": "bar",
         "x": [
          0,
          1,
          2,
          3,
          4,
          5,
          6,
          7,
          8,
          9,
          10,
          11,
          12,
          13,
          14,
          15,
          16,
          17,
          18,
          19,
          20,
          21,
          22,
          23
         ],
         "xaxis": "x",
         "y": [
          263,
          327,
          352,
          350,
          172,
          32,
          2,
          1,
          0,
          0,
          0,
          0,
          1,
          0,
          0,
          0,
          1,
          2,
          46,
          196,
          318,
          253,
          232,
          233
         ],
         "yaxis": "y"
        }
       ],
       "layout": {
        "autosize": true,
        "barmode": "relative",
        "legend": {
         "tracegroupgap": 0
        },
        "margin": {
         "t": 60
        },
        "template": {
         "data": {
          "bar": [
           {
            "error_x": {
             "color": "#2a3f5f"
            },
            "error_y": {
             "color": "#2a3f5f"
            },
            "marker": {
             "line": {
              "color": "#E5ECF6",
              "width": 0.5
             },
             "pattern": {
              "fillmode": "overlay",
              "size": 10,
              "solidity": 0.2
             }
            },
            "type": "bar"
           }
          ],
          "barpolar": [
           {
            "marker": {
             "line": {
              "color": "#E5ECF6",
              "width": 0.5
             },
             "pattern": {
              "fillmode": "overlay",
              "size": 10,
              "solidity": 0.2
             }
            },
            "type": "barpolar"
           }
          ],
          "carpet": [
           {
            "aaxis": {
             "endlinecolor": "#2a3f5f",
             "gridcolor": "white",
             "linecolor": "white",
             "minorgridcolor": "white",
             "startlinecolor": "#2a3f5f"
            },
            "baxis": {
             "endlinecolor": "#2a3f5f",
             "gridcolor": "white",
             "linecolor": "white",
             "minorgridcolor": "white",
             "startlinecolor": "#2a3f5f"
            },
            "type": "carpet"
           }
          ],
          "choropleth": [
           {
            "colorbar": {
             "outlinewidth": 0,
             "ticks": ""
            },
            "type": "choropleth"
           }
          ],
          "contour": [
           {
            "colorbar": {
             "outlinewidth": 0,
             "ticks": ""
            },
            "colorscale": [
             [
              0,
              "#0d0887"
             ],
             [
              0.1111111111111111,
              "#46039f"
             ],
             [
              0.2222222222222222,
              "#7201a8"
             ],
             [
              0.3333333333333333,
              "#9c179e"
             ],
             [
              0.4444444444444444,
              "#bd3786"
             ],
             [
              0.5555555555555556,
              "#d8576b"
             ],
             [
              0.6666666666666666,
              "#ed7953"
             ],
             [
              0.7777777777777778,
              "#fb9f3a"
             ],
             [
              0.8888888888888888,
              "#fdca26"
             ],
             [
              1,
              "#f0f921"
             ]
            ],
            "type": "contour"
           }
          ],
          "contourcarpet": [
           {
            "colorbar": {
             "outlinewidth": 0,
             "ticks": ""
            },
            "type": "contourcarpet"
           }
          ],
          "heatmap": [
           {
            "colorbar": {
             "outlinewidth": 0,
             "ticks": ""
            },
            "colorscale": [
             [
              0,
              "#0d0887"
             ],
             [
              0.1111111111111111,
              "#46039f"
             ],
             [
              0.2222222222222222,
              "#7201a8"
             ],
             [
              0.3333333333333333,
              "#9c179e"
             ],
             [
              0.4444444444444444,
              "#bd3786"
             ],
             [
              0.5555555555555556,
              "#d8576b"
             ],
             [
              0.6666666666666666,
              "#ed7953"
             ],
             [
              0.7777777777777778,
              "#fb9f3a"
             ],
             [
              0.8888888888888888,
              "#fdca26"
             ],
             [
              1,
              "#f0f921"
             ]
            ],
            "type": "heatmap"
           }
          ],
          "heatmapgl": [
           {
            "colorbar": {
             "outlinewidth": 0,
             "ticks": ""
            },
            "colorscale": [
             [
              0,
              "#0d0887"
             ],
             [
              0.1111111111111111,
              "#46039f"
             ],
             [
              0.2222222222222222,
              "#7201a8"
             ],
             [
              0.3333333333333333,
              "#9c179e"
             ],
             [
              0.4444444444444444,
              "#bd3786"
             ],
             [
              0.5555555555555556,
              "#d8576b"
             ],
             [
              0.6666666666666666,
              "#ed7953"
             ],
             [
              0.7777777777777778,
              "#fb9f3a"
             ],
             [
              0.8888888888888888,
              "#fdca26"
             ],
             [
              1,
              "#f0f921"
             ]
            ],
            "type": "heatmapgl"
           }
          ],
          "histogram": [
           {
            "marker": {
             "pattern": {
              "fillmode": "overlay",
              "size": 10,
              "solidity": 0.2
             }
            },
            "type": "histogram"
           }
          ],
          "histogram2d": [
           {
            "colorbar": {
             "outlinewidth": 0,
             "ticks": ""
            },
            "colorscale": [
             [
              0,
              "#0d0887"
             ],
             [
              0.1111111111111111,
              "#46039f"
             ],
             [
              0.2222222222222222,
              "#7201a8"
             ],
             [
              0.3333333333333333,
              "#9c179e"
             ],
             [
              0.4444444444444444,
              "#bd3786"
             ],
             [
              0.5555555555555556,
              "#d8576b"
             ],
             [
              0.6666666666666666,
              "#ed7953"
             ],
             [
              0.7777777777777778,
              "#fb9f3a"
             ],
             [
              0.8888888888888888,
              "#fdca26"
             ],
             [
              1,
              "#f0f921"
             ]
            ],
            "type": "histogram2d"
           }
          ],
          "histogram2dcontour": [
           {
            "colorbar": {
             "outlinewidth": 0,
             "ticks": ""
            },
            "colorscale": [
             [
              0,
              "#0d0887"
             ],
             [
              0.1111111111111111,
              "#46039f"
             ],
             [
              0.2222222222222222,
              "#7201a8"
             ],
             [
              0.3333333333333333,
              "#9c179e"
             ],
             [
              0.4444444444444444,
              "#bd3786"
             ],
             [
              0.5555555555555556,
              "#d8576b"
             ],
             [
              0.6666666666666666,
              "#ed7953"
             ],
             [
              0.7777777777777778,
              "#fb9f3a"
             ],
             [
              0.8888888888888888,
              "#fdca26"
             ],
             [
              1,
              "#f0f921"
             ]
            ],
            "type": "histogram2dcontour"
           }
          ],
          "mesh3d": [
           {
            "colorbar": {
             "outlinewidth": 0,
             "ticks": ""
            },
            "type": "mesh3d"
           }
          ],
          "parcoords": [
           {
            "line": {
             "colorbar": {
              "outlinewidth": 0,
              "ticks": ""
             }
            },
            "type": "parcoords"
           }
          ],
          "pie": [
           {
            "automargin": true,
            "type": "pie"
           }
          ],
          "scatter": [
           {
            "fillpattern": {
             "fillmode": "overlay",
             "size": 10,
             "solidity": 0.2
            },
            "type": "scatter"
           }
          ],
          "scatter3d": [
           {
            "line": {
             "colorbar": {
              "outlinewidth": 0,
              "ticks": ""
             }
            },
            "marker": {
             "colorbar": {
              "outlinewidth": 0,
              "ticks": ""
             }
            },
            "type": "scatter3d"
           }
          ],
          "scattercarpet": [
           {
            "marker": {
             "colorbar": {
              "outlinewidth": 0,
              "ticks": ""
             }
            },
            "type": "scattercarpet"
           }
          ],
          "scattergeo": [
           {
            "marker": {
             "colorbar": {
              "outlinewidth": 0,
              "ticks": ""
             }
            },
            "type": "scattergeo"
           }
          ],
          "scattergl": [
           {
            "marker": {
             "colorbar": {
              "outlinewidth": 0,
              "ticks": ""
             }
            },
            "type": "scattergl"
           }
          ],
          "scattermapbox": [
           {
            "marker": {
             "colorbar": {
              "outlinewidth": 0,
              "ticks": ""
             }
            },
            "type": "scattermapbox"
           }
          ],
          "scatterpolar": [
           {
            "marker": {
             "colorbar": {
              "outlinewidth": 0,
              "ticks": ""
             }
            },
            "type": "scatterpolar"
           }
          ],
          "scatterpolargl": [
           {
            "marker": {
             "colorbar": {
              "outlinewidth": 0,
              "ticks": ""
             }
            },
            "type": "scatterpolargl"
           }
          ],
          "scatterternary": [
           {
            "marker": {
             "colorbar": {
              "outlinewidth": 0,
              "ticks": ""
             }
            },
            "type": "scatterternary"
           }
          ],
          "surface": [
           {
            "colorbar": {
             "outlinewidth": 0,
             "ticks": ""
            },
            "colorscale": [
             [
              0,
              "#0d0887"
             ],
             [
              0.1111111111111111,
              "#46039f"
             ],
             [
              0.2222222222222222,
              "#7201a8"
             ],
             [
              0.3333333333333333,
              "#9c179e"
             ],
             [
              0.4444444444444444,
              "#bd3786"
             ],
             [
              0.5555555555555556,
              "#d8576b"
             ],
             [
              0.6666666666666666,
              "#ed7953"
             ],
             [
              0.7777777777777778,
              "#fb9f3a"
             ],
             [
              0.8888888888888888,
              "#fdca26"
             ],
             [
              1,
              "#f0f921"
             ]
            ],
            "type": "surface"
           }
          ],
          "table": [
           {
            "cells": {
             "fill": {
              "color": "#EBF0F8"
             },
             "line": {
              "color": "white"
             }
            },
            "header": {
             "fill": {
              "color": "#C8D4E3"
             },
             "line": {
              "color": "white"
             }
            },
            "type": "table"
           }
          ]
         },
         "layout": {
          "annotationdefaults": {
           "arrowcolor": "#2a3f5f",
           "arrowhead": 0,
           "arrowwidth": 1
          },
          "autotypenumbers": "strict",
          "coloraxis": {
           "colorbar": {
            "outlinewidth": 0,
            "ticks": ""
           }
          },
          "colorscale": {
           "diverging": [
            [
             0,
             "#8e0152"
            ],
            [
             0.1,
             "#c51b7d"
            ],
            [
             0.2,
             "#de77ae"
            ],
            [
             0.3,
             "#f1b6da"
            ],
            [
             0.4,
             "#fde0ef"
            ],
            [
             0.5,
             "#f7f7f7"
            ],
            [
             0.6,
             "#e6f5d0"
            ],
            [
             0.7,
             "#b8e186"
            ],
            [
             0.8,
             "#7fbc41"
            ],
            [
             0.9,
             "#4d9221"
            ],
            [
             1,
             "#276419"
            ]
           ],
           "sequential": [
            [
             0,
             "#0d0887"
            ],
            [
             0.1111111111111111,
             "#46039f"
            ],
            [
             0.2222222222222222,
             "#7201a8"
            ],
            [
             0.3333333333333333,
             "#9c179e"
            ],
            [
             0.4444444444444444,
             "#bd3786"
            ],
            [
             0.5555555555555556,
             "#d8576b"
            ],
            [
             0.6666666666666666,
             "#ed7953"
            ],
            [
             0.7777777777777778,
             "#fb9f3a"
            ],
            [
             0.8888888888888888,
             "#fdca26"
            ],
            [
             1,
             "#f0f921"
            ]
           ],
           "sequentialminus": [
            [
             0,
             "#0d0887"
            ],
            [
             0.1111111111111111,
             "#46039f"
            ],
            [
             0.2222222222222222,
             "#7201a8"
            ],
            [
             0.3333333333333333,
             "#9c179e"
            ],
            [
             0.4444444444444444,
             "#bd3786"
            ],
            [
             0.5555555555555556,
             "#d8576b"
            ],
            [
             0.6666666666666666,
             "#ed7953"
            ],
            [
             0.7777777777777778,
             "#fb9f3a"
            ],
            [
             0.8888888888888888,
             "#fdca26"
            ],
            [
             1,
             "#f0f921"
            ]
           ]
          },
          "colorway": [
           "#636efa",
           "#EF553B",
           "#00cc96",
           "#ab63fa",
           "#FFA15A",
           "#19d3f3",
           "#FF6692",
           "#B6E880",
           "#FF97FF",
           "#FECB52"
          ],
          "font": {
           "color": "#2a3f5f"
          },
          "geo": {
           "bgcolor": "white",
           "lakecolor": "white",
           "landcolor": "#E5ECF6",
           "showlakes": true,
           "showland": true,
           "subunitcolor": "white"
          },
          "hoverlabel": {
           "align": "left"
          },
          "hovermode": "closest",
          "mapbox": {
           "style": "light"
          },
          "paper_bgcolor": "white",
          "plot_bgcolor": "#E5ECF6",
          "polar": {
           "angularaxis": {
            "gridcolor": "white",
            "linecolor": "white",
            "ticks": ""
           },
           "bgcolor": "#E5ECF6",
           "radialaxis": {
            "gridcolor": "white",
            "linecolor": "white",
            "ticks": ""
           }
          },
          "scene": {
           "xaxis": {
            "backgroundcolor": "#E5ECF6",
            "gridcolor": "white",
            "gridwidth": 2,
            "linecolor": "white",
            "showbackground": true,
            "ticks": "",
            "zerolinecolor": "white"
           },
           "yaxis": {
            "backgroundcolor": "#E5ECF6",
            "gridcolor": "white",
            "gridwidth": 2,
            "linecolor": "white",
            "showbackground": true,
            "ticks": "",
            "zerolinecolor": "white"
           },
           "zaxis": {
            "backgroundcolor": "#E5ECF6",
            "gridcolor": "white",
            "gridwidth": 2,
            "linecolor": "white",
            "showbackground": true,
            "ticks": "",
            "zerolinecolor": "white"
           }
          },
          "shapedefaults": {
           "line": {
            "color": "#2a3f5f"
           }
          },
          "ternary": {
           "aaxis": {
            "gridcolor": "white",
            "linecolor": "white",
            "ticks": ""
           },
           "baxis": {
            "gridcolor": "white",
            "linecolor": "white",
            "ticks": ""
           },
           "bgcolor": "#E5ECF6",
           "caxis": {
            "gridcolor": "white",
            "linecolor": "white",
            "ticks": ""
           }
          },
          "title": {
           "x": 0.05
          },
          "xaxis": {
           "automargin": true,
           "gridcolor": "white",
           "linecolor": "white",
           "ticks": "",
           "title": {
            "standoff": 15
           },
           "zerolinecolor": "white",
           "zerolinewidth": 2
          },
          "yaxis": {
           "automargin": true,
           "gridcolor": "white",
           "linecolor": "white",
           "ticks": "",
           "title": {
            "standoff": 15
           },
           "zerolinecolor": "white",
           "zerolinewidth": 2
          }
         }
        },
        "xaxis": {
         "anchor": "y",
         "autorange": true,
         "domain": [
          0,
          1
         ],
         "range": [
          -0.5,
          23.5
         ],
         "title": {
          "text": "hour"
         },
         "type": "linear"
        },
        "yaxis": {
         "anchor": "x",
         "autorange": true,
         "domain": [
          0,
          1
         ],
         "range": [
          0,
          370.5263157894737
         ],
         "title": {
          "text": "missing_value_count"
         },
         "type": "linear"
        }
       }
      },
      "image/png": "[encoded data removed]",
      "text/html": [
       "<div>                            <div id=\"88fe9b18-b25c-4a81-933d-a515b0d89382\" class=\"plotly-graph-div\" style=\"height:525px; width:100%;\"></div>            <script type=\"text/javascript\">                require([\"plotly\"], function(Plotly) {                    window.PLOTLYENV=window.PLOTLYENV || {};                                    if (document.getElementById(\"88fe9b18-b25c-4a81-933d-a515b0d89382\")) {                    Plotly.newPlot(                        \"88fe9b18-b25c-4a81-933d-a515b0d89382\",                        [{\"alignmentgroup\":\"True\",\"hovertemplate\":\"hour=%{x}<br>missing_value_count=%{y}<extra></extra>\",\"legendgroup\":\"\",\"marker\":{\"color\":\"#636efa\",\"pattern\":{\"shape\":\"\"}},\"name\":\"\",\"offsetgroup\":\"\",\"orientation\":\"v\",\"showlegend\":false,\"textposition\":\"auto\",\"x\":[0,1,2,3,4,5,6,7,8,9,10,11,12,13,14,15,16,17,18,19,20,21,22,23],\"xaxis\":\"x\",\"y\":[263,327,352,350,172,32,2,1,0,0,0,0,1,0,0,0,1,2,46,196,318,253,232,233],\"yaxis\":\"y\",\"type\":\"bar\"}],                        {\"template\":{\"data\":{\"histogram2dcontour\":[{\"type\":\"histogram2dcontour\",\"colorbar\":{\"outlinewidth\":0,\"ticks\":\"\"},\"colorscale\":[[0.0,\"#0d0887\"],[0.1111111111111111,\"#46039f\"],[0.2222222222222222,\"#7201a8\"],[0.3333333333333333,\"#9c179e\"],[0.4444444444444444,\"#bd3786\"],[0.5555555555555556,\"#d8576b\"],[0.6666666666666666,\"#ed7953\"],[0.7777777777777778,\"#fb9f3a\"],[0.8888888888888888,\"#fdca26\"],[1.0,\"#f0f921\"]]}],\"choropleth\":[{\"type\":\"choropleth\",\"colorbar\":{\"outlinewidth\":0,\"ticks\":\"\"}}],\"histogram2d\":[{\"type\":\"histogram2d\",\"colorbar\":{\"outlinewidth\":0,\"ticks\":\"\"},\"colorscale\":[[0.0,\"#0d0887\"],[0.1111111111111111,\"#46039f\"],[0.2222222222222222,\"#7201a8\"],[0.3333333333333333,\"#9c179e\"],[0.4444444444444444,\"#bd3786\"],[0.5555555555555556,\"#d8576b\"],[0.6666666666666666,\"#ed7953\"],[0.7777777777777778,\"#fb9f3a\"],[0.8888888888888888,\"#fdca26\"],[1.0,\"#f0f921\"]]}],\"heatmap\":[{\"type\":\"heatmap\",\"colorbar\":{\"outlinewidth\":0,\"ticks\":\"\"},\"colorscale\":[[0.0,\"#0d0887\"],[0.1111111111111111,\"#46039f\"],[0.2222222222222222,\"#7201a8\"],[0.3333333333333333,\"#9c179e\"],[0.4444444444444444,\"#bd3786\"],[0.5555555555555556,\"#d8576b\"],[0.6666666666666666,\"#ed7953\"],[0.7777777777777778,\"#fb9f3a\"],[0.8888888888888888,\"#fdca26\"],[1.0,\"#f0f921\"]]}],\"heatmapgl\":[{\"type\":\"heatmapgl\",\"colorbar\":{\"outlinewidth\":0,\"ticks\":\"\"},\"colorscale\":[[0.0,\"#0d0887\"],[0.1111111111111111,\"#46039f\"],[0.2222222222222222,\"#7201a8\"],[0.3333333333333333,\"#9c179e\"],[0.4444444444444444,\"#bd3786\"],[0.5555555555555556,\"#d8576b\"],[0.6666666666666666,\"#ed7953\"],[0.7777777777777778,\"#fb9f3a\"],[0.8888888888888888,\"#fdca26\"],[1.0,\"#f0f921\"]]}],\"contourcarpet\":[{\"type\":\"contourcarpet\",\"colorbar\":{\"outlinewidth\":0,\"ticks\":\"\"}}],\"contour\":[{\"type\":\"contour\",\"colorbar\":{\"outlinewidth\":0,\"ticks\":\"\"},\"colorscale\":[[0.0,\"#0d0887\"],[0.1111111111111111,\"#46039f\"],[0.2222222222222222,\"#7201a8\"],[0.3333333333333333,\"#9c179e\"],[0.4444444444444444,\"#bd3786\"],[0.5555555555555556,\"#d8576b\"],[0.6666666666666666,\"#ed7953\"],[0.7777777777777778,\"#fb9f3a\"],[0.8888888888888888,\"#fdca26\"],[1.0,\"#f0f921\"]]}],\"surface\":[{\"type\":\"surface\",\"colorbar\":{\"outlinewidth\":0,\"ticks\":\"\"},\"colorscale\":[[0.0,\"#0d0887\"],[0.1111111111111111,\"#46039f\"],[0.2222222222222222,\"#7201a8\"],[0.3333333333333333,\"#9c179e\"],[0.4444444444444444,\"#bd3786\"],[0.5555555555555556,\"#d8576b\"],[0.6666666666666666,\"#ed7953\"],[0.7777777777777778,\"#fb9f3a\"],[0.8888888888888888,\"#fdca26\"],[1.0,\"#f0f921\"]]}],\"mesh3d\":[{\"type\":\"mesh3d\",\"colorbar\":{\"outlinewidth\":0,\"ticks\":\"\"}}],\"scatter\":[{\"fillpattern\":{\"fillmode\":\"overlay\",\"size\":10,\"solidity\":0.2},\"type\":\"scatter\"}],\"parcoords\":[{\"type\":\"parcoords\",\"line\":{\"colorbar\":{\"outlinewidth\":0,\"ticks\":\"\"}}}],\"scatterpolargl\":[{\"type\":\"scatterpolargl\",\"marker\":{\"colorbar\":{\"outlinewidth\":0,\"ticks\":\"\"}}}],\"bar\":[{\"error_x\":{\"color\":\"#2a3f5f\"},\"error_y\":{\"color\":\"#2a3f5f\"},\"marker\":{\"line\":{\"color\":\"#E5ECF6\",\"width\":0.5},\"pattern\":{\"fillmode\":\"overlay\",\"size\":10,\"solidity\":0.2}},\"type\":\"bar\"}],\"scattergeo\":[{\"type\":\"scattergeo\",\"marker\":{\"colorbar\":{\"outlinewidth\":0,\"ticks\":\"\"}}}],\"scatterpolar\":[{\"type\":\"scatterpolar\",\"marker\":{\"colorbar\":{\"outlinewidth\":0,\"ticks\":\"\"}}}],\"histogram\":[{\"marker\":{\"pattern\":{\"fillmode\":\"overlay\",\"size\":10,\"solidity\":0.2}},\"type\":\"histogram\"}],\"scattergl\":[{\"type\":\"scattergl\",\"marker\":{\"colorbar\":{\"outlinewidth\":0,\"ticks\":\"\"}}}],\"scatter3d\":[{\"type\":\"scatter3d\",\"line\":{\"colorbar\":{\"outlinewidth\":0,\"ticks\":\"\"}},\"marker\":{\"colorbar\":{\"outlinewidth\":0,\"ticks\":\"\"}}}],\"scattermapbox\":[{\"type\":\"scattermapbox\",\"marker\":{\"colorbar\":{\"outlinewidth\":0,\"ticks\":\"\"}}}],\"scatterternary\":[{\"type\":\"scatterternary\",\"marker\":{\"colorbar\":{\"outlinewidth\":0,\"ticks\":\"\"}}}],\"scattercarpet\":[{\"type\":\"scattercarpet\",\"marker\":{\"colorbar\":{\"outlinewidth\":0,\"ticks\":\"\"}}}],\"carpet\":[{\"aaxis\":{\"endlinecolor\":\"#2a3f5f\",\"gridcolor\":\"white\",\"linecolor\":\"white\",\"minorgridcolor\":\"white\",\"startlinecolor\":\"#2a3f5f\"},\"baxis\":{\"endlinecolor\":\"#2a3f5f\",\"gridcolor\":\"white\",\"linecolor\":\"white\",\"minorgridcolor\":\"white\",\"startlinecolor\":\"#2a3f5f\"},\"type\":\"carpet\"}],\"table\":[{\"cells\":{\"fill\":{\"color\":\"#EBF0F8\"},\"line\":{\"color\":\"white\"}},\"header\":{\"fill\":{\"color\":\"#C8D4E3\"},\"line\":{\"color\":\"white\"}},\"type\":\"table\"}],\"barpolar\":[{\"marker\":{\"line\":{\"color\":\"#E5ECF6\",\"width\":0.5},\"pattern\":{\"fillmode\":\"overlay\",\"size\":10,\"solidity\":0.2}},\"type\":\"barpolar\"}],\"pie\":[{\"automargin\":true,\"type\":\"pie\"}]},\"layout\":{\"autotypenumbers\":\"strict\",\"colorway\":[\"#636efa\",\"#EF553B\",\"#00cc96\",\"#ab63fa\",\"#FFA15A\",\"#19d3f3\",\"#FF6692\",\"#B6E880\",\"#FF97FF\",\"#FECB52\"],\"font\":{\"color\":\"#2a3f5f\"},\"hovermode\":\"closest\",\"hoverlabel\":{\"align\":\"left\"},\"paper_bgcolor\":\"white\",\"plot_bgcolor\":\"#E5ECF6\",\"polar\":{\"bgcolor\":\"#E5ECF6\",\"angularaxis\":{\"gridcolor\":\"white\",\"linecolor\":\"white\",\"ticks\":\"\"},\"radialaxis\":{\"gridcolor\":\"white\",\"linecolor\":\"white\",\"ticks\":\"\"}},\"ternary\":{\"bgcolor\":\"#E5ECF6\",\"aaxis\":{\"gridcolor\":\"white\",\"linecolor\":\"white\",\"ticks\":\"\"},\"baxis\":{\"gridcolor\":\"white\",\"linecolor\":\"white\",\"ticks\":\"\"},\"caxis\":{\"gridcolor\":\"white\",\"linecolor\":\"white\",\"ticks\":\"\"}},\"coloraxis\":{\"colorbar\":{\"outlinewidth\":0,\"ticks\":\"\"}},\"colorscale\":{\"sequential\":[[0.0,\"#0d0887\"],[0.1111111111111111,\"#46039f\"],[0.2222222222222222,\"#7201a8\"],[0.3333333333333333,\"#9c179e\"],[0.4444444444444444,\"#bd3786\"],[0.5555555555555556,\"#d8576b\"],[0.6666666666666666,\"#ed7953\"],[0.7777777777777778,\"#fb9f3a\"],[0.8888888888888888,\"#fdca26\"],[1.0,\"#f0f921\"]],\"sequentialminus\":[[0.0,\"#0d0887\"],[0.1111111111111111,\"#46039f\"],[0.2222222222222222,\"#7201a8\"],[0.3333333333333333,\"#9c179e\"],[0.4444444444444444,\"#bd3786\"],[0.5555555555555556,\"#d8576b\"],[0.6666666666666666,\"#ed7953\"],[0.7777777777777778,\"#fb9f3a\"],[0.8888888888888888,\"#fdca26\"],[1.0,\"#f0f921\"]],\"diverging\":[[0,\"#8e0152\"],[0.1,\"#c51b7d\"],[0.2,\"#de77ae\"],[0.3,\"#f1b6da\"],[0.4,\"#fde0ef\"],[0.5,\"#f7f7f7\"],[0.6,\"#e6f5d0\"],[0.7,\"#b8e186\"],[0.8,\"#7fbc41\"],[0.9,\"#4d9221\"],[1,\"#276419\"]]},\"xaxis\":{\"gridcolor\":\"white\",\"linecolor\":\"white\",\"ticks\":\"\",\"title\":{\"standoff\":15},\"zerolinecolor\":\"white\",\"automargin\":true,\"zerolinewidth\":2},\"yaxis\":{\"gridcolor\":\"white\",\"linecolor\":\"white\",\"ticks\":\"\",\"title\":{\"standoff\":15},\"zerolinecolor\":\"white\",\"automargin\":true,\"zerolinewidth\":2},\"scene\":{\"xaxis\":{\"backgroundcolor\":\"#E5ECF6\",\"gridcolor\":\"white\",\"linecolor\":\"white\",\"showbackground\":true,\"ticks\":\"\",\"zerolinecolor\":\"white\",\"gridwidth\":2},\"yaxis\":{\"backgroundcolor\":\"#E5ECF6\",\"gridcolor\":\"white\",\"linecolor\":\"white\",\"showbackground\":true,\"ticks\":\"\",\"zerolinecolor\":\"white\",\"gridwidth\":2},\"zaxis\":{\"backgroundcolor\":\"#E5ECF6\",\"gridcolor\":\"white\",\"linecolor\":\"white\",\"showbackground\":true,\"ticks\":\"\",\"zerolinecolor\":\"white\",\"gridwidth\":2}},\"shapedefaults\":{\"line\":{\"color\":\"#2a3f5f\"}},\"annotationdefaults\":{\"arrowcolor\":\"#2a3f5f\",\"arrowhead\":0,\"arrowwidth\":1},\"geo\":{\"bgcolor\":\"white\",\"landcolor\":\"#E5ECF6\",\"subunitcolor\":\"white\",\"showland\":true,\"showlakes\":true,\"lakecolor\":\"white\"},\"title\":{\"x\":0.05},\"mapbox\":{\"style\":\"light\"}}},\"xaxis\":{\"anchor\":\"y\",\"domain\":[0.0,1.0],\"title\":{\"text\":\"hour\"}},\"yaxis\":{\"anchor\":\"x\",\"domain\":[0.0,1.0],\"title\":{\"text\":\"missing_value_count\"}},\"legend\":{\"tracegroupgap\":0},\"margin\":{\"t\":60},\"barmode\":\"relative\"},                        {\"responsive\": true}                    ).then(function(){\n",
       "                            \n",
       "var gd = document.getElementById('88fe9b18-b25c-4a81-933d-a515b0d89382');\n",
       "var x = new MutationObserver(function (mutations, observer) {{\n",
       "        var display = window.getComputedStyle(gd).display;\n",
       "        if (!display || display === 'none') {{\n",
       "            console.log([gd, 'removed!']);\n",
       "            Plotly.purge(gd);\n",
       "            observer.disconnect();\n",
       "        }}\n",
       "}});\n",
       "\n",
       "// Listen for the removal of the full notebook cells\n",
       "var notebookContainer = gd.closest('#notebook-container');\n",
       "if (notebookContainer) {{\n",
       "    x.observe(notebookContainer, {childList: true});\n",
       "}}\n",
       "\n",
       "// Listen for the clearing of the current output cell\n",
       "var outputEl = gd.closest('.output');\n",
       "if (outputEl) {{\n",
       "    x.observe(outputEl, {childList: true});\n",
       "}}\n",
       "\n",
       "                        })                };                });            </script>        </div>"
      ]
     },
     "metadata": {},
     "output_type": "display_data"
    }
   ],
   "source": [
    "pv_data['datetime'] = pv_data.index.copy()\n",
    "pv_data['hour'] = pv_data['datetime'].dt.hour\n",
    "\n",
    "#check distribution of Nan values by the hour \n",
    "missing = pv_data[pv_data['negative_active_energy_flow_wh'].isnull()]\n",
    "print(missing['hour'].unique())\n",
    "\n",
    "#check distribution of negative values by the hour \n",
    "neg = pv_data[ pv_data['negative_active_energy_flow_wh']<0]\n",
    "print(neg['hour'].unique())\n",
    "\n",
    "#plot distribution of Nan values by the hour (same code can be altered for negative entries)\n",
    "miss_count = pd.DataFrame(columns=['hour', 'missing_value_count'])\n",
    "hour = []\n",
    "mc = []\n",
    "for i in range(24):\n",
    "    count = len(missing[missing['hour']==i])\n",
    "    hour.append(i)\n",
    "    mc.append(count)\n",
    "miss_count['hour'] = hour\n",
    "miss_count['missing_value_count'] = mc\n",
    "    \n",
    "fig = px.bar(miss_count, x='hour', y='missing_value_count')\n",
    "fig.show()"
   ]
  },
  {
   "cell_type": "code",
   "execution_count": 8,
   "metadata": {},
   "outputs": [],
   "source": [
    "#Add binary indicator column\n",
    "\n",
    "def time_convert(str1):\n",
    "    if (str1[-2:] == \"AM\"):\n",
    "        return str(0) + str1[:-2]\n",
    "    elif (str1[-2:] == \"PM\") & (int(str1[:1]) >=2):\n",
    "        return str(int(str1[:1]) + 12) + str1[1:8]\n",
    "    else:\n",
    "        return str(int(str1[:2]) + 12) + str1[2:8]\n",
    "    \n",
    "@lru_cache(maxsize = 18000) \n",
    "def get_sunrise_sunset(latitude, longitude, date):\n",
    "    \n",
    "    url = f\"https://api.sunrise-sunset.org/json?lat={latitude}&lng={longitude}&date={date.date()}\"\n",
    "    resp = requests.get(url).json()\n",
    "    sunrise = pd.to_datetime(time_convert(resp['results']['sunrise']))\n",
    "    sunset = pd.to_datetime(time_convert(resp['results']['sunset']))\n",
    "    \n",
    "    return sunrise, sunset   \n",
    "\n",
    "def add_BIcolumn(pv_data):\n",
    "    \n",
    "    df = pv_data.copy()\n",
    "    latitude = 50.93\n",
    "    longitude = 5.33\n",
    "    df['LDI'] = 0\n",
    "    start = df.index.min().date()\n",
    "    end = df.index.max().date()\n",
    "#     print(start, end)\n",
    "    \n",
    "    for date1 in pd.date_range(start, end, freq='D'):\n",
    "        sunrise, sunset = get_sunrise_sunset(latitude, longitude, date1)\n",
    "        range_start = pd.to_datetime(datetime.combine(date1, sunrise.time()))\n",
    "        range_end = pd.to_datetime(datetime.combine(date1, sunset.time()))\n",
    "        df.loc[(df.index > range_start) & (df.index < range_end), 'LDI'] = 1\n",
    "        \n",
    "    return df"
   ]
  },
  {
   "cell_type": "code",
   "execution_count": 9,
   "metadata": {},
   "outputs": [],
   "source": [
    "# Prepares the PV data for tests by adding binary indicator column and replaces missing and negative values\n",
    "\n",
    "def prep_pv_data(pv_data):    \n",
    "    \n",
    "    hh_data = pv_data.copy()\n",
    "    hh_data = add_BIcolumn(hh_data)\n",
    "    hh_data['datetime'] = hh_data.index.copy()\n",
    "    hh_data['month'] =  hh_data['datetime'].dt.month\n",
    "    hh_data['hour'] =  hh_data['datetime'].dt.hour\n",
    "    hh_data =  hh_data.drop_duplicates('datetime', keep='last')\n",
    "    \n",
    "    for i in range(len(hh_data)):\n",
    "        if hh_data['LDI'][i] == 0:\n",
    "            hh_data['negative_active_energy_flow_wh'][i] = 0 \n",
    "    \n",
    "    missing = hh_data[hh_data['negative_active_energy_flow_wh'].isnull()]\n",
    "    for i in range(len(missing)):\n",
    "        target_month = missing.index[i].month\n",
    "        target_hour = missing.index[i].hour\n",
    "        temp_hh = hh_data[~hh_data.index.isin(missing.index)]\n",
    "        temp = temp_hh[(temp_hh['month']==target_month)& (temp_hh['hour']==target_hour)]\n",
    "        missing['negative_active_energy_flow_wh'][i] = temp['negative_active_energy_flow_wh'].mean()\n",
    "    \n",
    "    hh_data.loc[hh_data.index.isin(missing.index) , 'negative_active_energy_flow_wh'] = missing['negative_active_energy_flow_wh']\n",
    "    \n",
    "    neg = hh_data[hh_data['negative_active_energy_flow_wh']<0]\n",
    "    for i in range(len(neg)):\n",
    "        target_month1 = neg.index[i].month\n",
    "        target_hour1 = neg.index[i].hour         \n",
    "        temp_hh1 = hh_data[~hh_data.index.isin(neg.index)]\n",
    "        temp1 = temp_hh1[(temp_hh1['month']==target_month1)& ( temp_hh1['hour']==target_hour1)]\n",
    "        neg['negative_active_energy_flow_wh'][i] = temp1['negative_active_energy_flow_wh'].mean()\n",
    "\n",
    "    hh_data.loc[hh_data.index.isin(neg.index) , 'negative_active_energy_flow_wh'] = neg['negative_active_energy_flow_wh']\n",
    "    \n",
    "    hh_data = hh_data.drop(['datetime', 'hour', 'month', 'LDI'], axis =1)\n",
    "    hh_data = hh_data.fillna(0)\n",
    "    hh_data = hh_data.clip(0)\n",
    "    hh_data = hh_data.round(2)\n",
    "        \n",
    "    return hh_data  "
   ]
  },
  {
   "cell_type": "code",
   "execution_count": null,
   "metadata": {},
   "outputs": [],
   "source": [
    "pv_data1 = prep_pv_data(pv_data)\n",
    "display(pv_data1)"
   ]
  },
  {
   "cell_type": "code",
   "execution_count": 11,
   "metadata": {},
   "outputs": [
    {
     "name": "stdout",
     "output_type": "stream",
     "text": [
      "ADF Statistic: -22.485913\n",
      "p-value: 0.000000\n",
      "Critical Values:\n",
      "\t1%: -3.431\n",
      "\t5%: -2.862\n",
      "\t10%: -2.567\n"
     ]
    }
   ],
   "source": [
    "#Perform ADF test on processed pv data\n",
    "\n",
    "result = adfuller(pv_data1['negative_active_energy_flow_wh'], autolag='AIC')\n",
    "print('ADF Statistic: %f' % result[0])\n",
    "print('p-value: %f' % result[1])\n",
    "print('Critical Values:')\n",
    "for key, value in result[4].items():\n",
    "\tprint('\\t%s: %.3f' % (key, value))"
   ]
  },
  {
   "cell_type": "code",
   "execution_count": 18,
   "metadata": {},
   "outputs": [
    {
     "data": {
      "image/png": "[encoded data removed]",
      "text/plain": [
       "<Figure size 1440x720 with 1 Axes>"
      ]
     },
     "metadata": {
      "needs_background": "light"
     },
     "output_type": "display_data"
    }
   ],
   "source": [
    "fig, ax = plt.subplots(figsize=(20, 10))\n",
    "\n",
    "#Autocorrelation plot with 102 previous timestamps on processed data to decide on the lagged variables\n",
    "plot_102 = plot_acf(pv_data1['negative_active_energy_flow_wh'], lags = 102, ax=ax)"
   ]
  },
  {
   "cell_type": "code",
   "execution_count": 21,
   "metadata": {},
   "outputs": [
    {
     "data": {
      "image/png": "[encoded data removed]",
      "text/plain": [
       "<Figure size 1440x720 with 1 Axes>"
      ]
     },
     "metadata": {
      "needs_background": "light"
     },
     "output_type": "display_data"
    }
   ],
   "source": [
    "#Autocorrelation plot with timestamps from the past 2 weeks on processed data to decide on the lagged variables\n",
    "fig, ax1 = plt.subplots(figsize=(20, 10))\n",
    "plot_2w = plot_acf(pv_data1['negative_active_energy_flow_wh'], lags = 1344, ax=ax1)"
   ]
  },
  {
   "cell_type": "code",
   "execution_count": null,
   "metadata": {},
   "outputs": [],
   "source": [
    "def add_lagged(df):\n",
    "    \n",
    "    df1=df.copy()    \n",
    "    \n",
    "    prev1 = df1['negative_active_energy_flow_wh'].shift(96, fill_value=0)\n",
    "    prev2 = df1['negative_active_energy_flow_wh'].shift(192, fill_value=0)\n",
    "    prev3 = df1['negative_active_energy_flow_wh'].shift(288, fill_value=0)\n",
    "#     prev4 = df1['negative_active_energy_flow_wh'].shift(384, fill_value=0)\n",
    "    \n",
    "    prev_mean = df1['negative_active_energy_flow_wh'].rolling(3).mean()\n",
    "    \n",
    "    df1.insert(loc=0, column='prev1', value= prev1)\n",
    "    df1.insert(loc=1, column='prev2', value= prev2)\n",
    "    df1.insert(loc=2, column='prev3', value= prev3)\n",
    "#     df1.insert(loc=3, column='prev4', value= prev4)\n",
    "\n",
    "    df1.insert(loc=3, column = 'prev1_mean', value = prev_mean.shift(96, fill_value=0))  \n",
    "    df1.insert(loc=4, column = 'prev2_mean', value = prev_mean.shift(192, fill_value=0))\n",
    "    df1.insert(loc=5, column = 'prev3_mean', value = prev_mean.shift(288, fill_value=0))\n",
    "    \n",
    "    df2 = pd.DataFrame(df1[288:])\n",
    "\n",
    "    return df2"
   ]
  },
  {
   "cell_type": "code",
   "execution_count": null,
   "metadata": {},
   "outputs": [],
   "source": [
    "#Plot unprocessed household data without negative entries\n",
    "\n",
    "pv_data2 = pv_data.clip(0)\n",
    "fig = go.Figure()\n",
    "fig.add_trace(go.Scatter(x=pv_data2.index, y=pv_data2['negative_active_energy_flow_wh'],\n",
    "                    name='Energy_flow',\n",
    "                    line = dict(color='goldenrod', width=4)))\n",
    "fig.show()"
   ]
  }
 ],
 "metadata": {
  "kernelspec": {
   "display_name": "Python 3",
   "language": "python",
   "name": "python3"
  },
  "language_info": {
   "codemirror_mode": {
    "name": "ipython",
    "version": 3
   },
   "file_extension": ".py",
   "mimetype": "text/x-python",
   "name": "python",
   "nbconvert_exporter": "python",
   "pygments_lexer": "ipython3",
   "version": "3.8.5"
  }
 },
 "nbformat": 4,
 "nbformat_minor": 4
}
